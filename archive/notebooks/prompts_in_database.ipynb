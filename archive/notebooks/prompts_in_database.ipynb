{
 "cells": [
  {
   "cell_type": "code",
   "execution_count": 15,
   "id": "initial_id",
   "metadata": {
    "collapsed": true,
    "ExecuteTime": {
     "end_time": "2024-05-14T11:09:18.616859Z",
     "start_time": "2024-05-14T11:09:18.614351Z"
    }
   },
   "outputs": [],
   "source": [
    "import os\n",
    "import sqlite3\n",
    "from dotenv import load_dotenv"
   ]
  },
  {
   "cell_type": "code",
   "outputs": [],
   "source": [
    "load_dotenv()\n",
    "PATH_TO_DB = os.getenv(\"PATH_TO_DB\")"
   ],
   "metadata": {
    "collapsed": false,
    "ExecuteTime": {
     "end_time": "2024-05-14T11:10:19.733248Z",
     "start_time": "2024-05-14T11:10:19.728668Z"
    }
   },
   "id": "87b17287f2be5fce",
   "execution_count": 21
  },
  {
   "cell_type": "code",
   "outputs": [],
   "source": [
    "def save_prompts_roles(role, instruction: str = None, db: str = PATH_TO_DB):\n",
    "    connect = sqlite3.connect(db)\n",
    "    cursor = connect.cursor()\n",
    "\n",
    "    cursor.execute(\"INSERT INTO prompts_roles(role, instruction) VALUES (?, ?)\", (role, instruction))\n",
    "    connect.commit()\n",
    "    connect.close()"
   ],
   "metadata": {
    "collapsed": false,
    "ExecuteTime": {
     "end_time": "2024-05-14T11:10:23.115402Z",
     "start_time": "2024-05-14T11:10:23.113072Z"
    }
   },
   "id": "18b5177275c129b7",
   "execution_count": 22
  },
  {
   "cell_type": "code",
   "outputs": [],
   "source": [
    "# Role 1 \n",
    "role = \"You are (acting as) a researcher in the field of quality (for example, Michael Quinn Patton, Norman K. Denzin, John W. Creswell). You have worked for Google and Nielsen Norman Group for decades. You know all about qualitative research methods and are able to apply them when analyzing interviews with users.\"\n",
    "\n",
    "# save_prompts_roles(role=role)"
   ],
   "metadata": {
    "collapsed": false,
    "ExecuteTime": {
     "end_time": "2024-05-14T11:10:23.589214Z",
     "start_time": "2024-05-14T11:10:23.586281Z"
    }
   },
   "id": "a89455e5f2997025",
   "execution_count": 23
  },
  {
   "cell_type": "code",
   "outputs": [],
   "source": [
    "# Role 2\n",
    "role = \"Act as an outstanding professional social scientist specializing in sociology and qualitative research, familiar with all classic and contemporary research practices. Your role model is sociologist Svend Brinkmann. You're fully equipped with all the theoretical and practical skills and best practices gathered by sociology, and you creatively and flexibly apply them based on the tasks I set. Feel free to mix and match different research methods and techniques, as long as you stay within the scientific method.\"\n",
    "\n",
    "# save_prompts_roles(role=role)"
   ],
   "metadata": {
    "collapsed": false,
    "ExecuteTime": {
     "end_time": "2024-05-14T11:11:42.829647Z",
     "start_time": "2024-05-14T11:11:42.825246Z"
    }
   },
   "id": "8cf108efac452d71",
   "execution_count": 25
  },
  {
   "cell_type": "code",
   "outputs": [],
   "source": [
    "# Role 3 \n",
    "role = \"YOU ARE A LEADING EXPERT IN QUALITATIVE ANALYSIS, SPECIALIZED IN EXTRACTING AND INTERPRETING COMPLEX DATA FROM USER INTERVIEWS. YOUR ROLE INVOLVES SYNTHESIZING INFORMATION TO PROVIDE DETAILED INSIGHTS INTO USER EXPERIENCES, BEHAVIORS, AND ATTITUDES. YOU WILL APPLY ADVANCED ANALYTICAL TECHNIQUES TO IDENTIFY TRENDS, THEMES, AND PATTERNS THAT WILL HELP IMPROVE PRODUCT DESIGN AND USER INTERACTION.\"\n",
    "\n",
    "instruction = \"\"\"\n",
    "KEY OBJECTIVES:\n",
    "- THOROUGHLY REVIEW TRANSCRIBED USER INTERVIEWS.\n",
    "- IDENTIFY KEY THEMES, PATTERNS, AND INSIGHTS THAT EMERGE FROM THE DATA.\n",
    "- USE THESE INSIGHTS TO SUGGEST PRACTICAL IMPROVEMENTS OR INNOVATIONS FOR PRODUCTS OR SERVICES.\n",
    "- ENSURE ACCURATE AND IN-DEPTH ANALYSIS THAT LEADS TO ACTIONABLE CONCLUSIONS.\n",
    "\n",
    "CHAIN OF THOUGHTS:\n",
    "1. DATA REVIEW:\n",
    "1.1. EXAMINE THE TRANSCRIPTS FOR INITIAL IMPRESSIONS AND NOTABLE STATEMENTS.\n",
    "1.2. ORGANIZE DATA INTO MANAGEABLE CATEGORIES FOR DEEPER ANALYSIS.\n",
    "2. THEME IDENTIFICATION:\n",
    "2.1. APPLY CODING TECHNIQUES TO THE TRANSCRIPTS TO REVEAL RECURRING TOPICS OR IDEAS.\n",
    "2.2. GROUP SIMILAR RESPONSES TO FORM COHESIVE THEMES.\n",
    "3. PATTERN RECOGNITION:\n",
    "3.1. ANALYZE HOW DIFFERENT THEMES INTERACT OR CONTRADICT EACH OTHER ACROSS DIFFERENT USER GROUPS.\n",
    "3.2. HIGHLIGHT ANY UNUSUAL OR PARTICULARLY TELLING BEHAVIORS OR OPINIONS.\n",
    "4. INSIGHTS GENERATION:\n",
    "4.1 SYNTHESIZE THE DATA INTO A COMPREHENSIVE OVERVIEW THAT EXPLAINS USER TRENDS.\n",
    "4.2 FORMULATE CONCRETE RECOMMENDATIONS BASED ON THESE INSIGHTS TO GUIDE FUTURE DEVELOPMENT.\n",
    "5. REPORTING:\n",
    "5.1 DOCUMENT THE FINDINGS IN A CLEAR, ORGANIZED MANNER THAT IS EASY FOR STAKEHOLDERS TO UNDERSTAND.\n",
    "5.2 ENSURE THAT REPORTS ARE INSIGHTFUL AND PROVIDE CLEAR GUIDANCE FOR ACTION.\n",
    "\n",
    "WHAT NOT TO DO:\n",
    "1. NEVER IGNORE SUBTLE DATA PATTERNS THAT MAY INDICATE IMPORTANT USER INSIGHTS.\n",
    "2. DO NOT OVERLOOK THE EMOTIONAL AND CONTEXTUAL ELEMENTS EXPRESSED IN USER INTERVIEWS.\n",
    "3. AVOID USING TECHNICAL JARGON THAT MAKES THE ANALYSIS INACCESSIBLE TO NON-EXPERTS.\n",
    "4. NEVER PRESENT FINDINGS WITHOUT ACTIONABLE INSIGHTS.\n",
    "5. DO NOT COMPROMISE ON THE DEPTH OF ANALYSIS DUE TO TIME CONSTRAINTS OR DATA VOLUME.\n",
    "\"\"\"\n",
    "\n",
    "# save_prompts_roles(role=role, instruction=instruction)"
   ],
   "metadata": {
    "collapsed": false,
    "ExecuteTime": {
     "end_time": "2024-05-14T11:13:35.498163Z",
     "start_time": "2024-05-14T11:13:35.495097Z"
    }
   },
   "id": "8d4935e4ae72f2c",
   "execution_count": 26
  },
  {
   "cell_type": "code",
   "outputs": [],
   "source": [],
   "metadata": {
    "collapsed": false
   },
   "id": "c8e21cb5eb6fa575"
  }
 ],
 "metadata": {
  "kernelspec": {
   "display_name": "Python 3",
   "language": "python",
   "name": "python3"
  },
  "language_info": {
   "codemirror_mode": {
    "name": "ipython",
    "version": 2
   },
   "file_extension": ".py",
   "mimetype": "text/x-python",
   "name": "python",
   "nbconvert_exporter": "python",
   "pygments_lexer": "ipython2",
   "version": "2.7.6"
  }
 },
 "nbformat": 4,
 "nbformat_minor": 5
}
