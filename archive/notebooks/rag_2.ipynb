{
 "cells": [
  {
   "cell_type": "code",
   "execution_count": 25,
   "id": "initial_id",
   "metadata": {
    "collapsed": true,
    "ExecuteTime": {
     "end_time": "2024-05-08T19:59:37.597193Z",
     "start_time": "2024-05-08T19:59:37.594509Z"
    }
   },
   "outputs": [],
   "source": [
    "import os\n",
    "import re\n",
    "from dotenv import load_dotenv\n",
    "\n",
    "from langchain_community.embeddings import YandexGPTEmbeddings\n",
    "from langchain_community.llms import YandexGPT\n",
    "from langchain_community.document_loaders import DirectoryLoader\n",
    "from langchain_chroma import Chroma\n",
    "from langchain_core.output_parsers import StrOutputParser\n",
    "from langchain_core.runnables import RunnablePassthrough\n",
    "from langchain_text_splitters import RecursiveCharacterTextSplitter\n",
    "from langchain_core.prompts import ChatPromptTemplate\n",
    "from langchain import hub"
   ]
  },
  {
   "cell_type": "code",
   "outputs": [],
   "source": [
    "load_dotenv()\n",
    "YANDEX_FOLDER_ID = os.getenv(\"YANDEX_FOLDER_ID\")\n",
    "YANDEX_API_KEY = os.getenv(\"YANDEX_API_KEY\")\n",
    "\n",
    "yandex_embeddings = YandexGPTEmbeddings(api_key=YANDEX_API_KEY, folder_id=YANDEX_FOLDER_ID, model_name=\"text-search-doc\")\n",
    "yandex_llm = YandexGPT(api_key=YANDEX_API_KEY, folder_id=YANDEX_FOLDER_ID, model_name=\"summarization\", temperature=0.0)"
   ],
   "metadata": {
    "collapsed": false,
    "ExecuteTime": {
     "end_time": "2024-05-08T19:52:41.966359Z",
     "start_time": "2024-05-08T19:52:41.958588Z"
    }
   },
   "id": "40723c667fa5e698",
   "execution_count": 17
  },
  {
   "cell_type": "code",
   "outputs": [
    {
     "name": "stdout",
     "output_type": "stream",
     "text": [
      "Index: 0, File name: interview_3.txt, File length: 37995\n",
      "Index: 1, File name: interview_2.txt, File length: 33951\n",
      "Index: 2, File name: interview_1.txt, File length: 36025\n",
      "Index: 3, File name: interview_5.txt, File length: 50584\n",
      "Index: 4, File name: interview_4.txt, File length: 39364\n"
     ]
    }
   ],
   "source": [
    "# 1. Load documents \n",
    "loader = DirectoryLoader(\"../data/raw/\", glob=\"*.txt\")\n",
    "documents = loader.load()\n",
    "\n",
    "for num, doc in enumerate(documents):\n",
    "    print(f\"Index: {num}, File name: {doc.metadata['source'][-15:]}, File length: {len(doc.page_content)}\")"
   ],
   "metadata": {
    "collapsed": false,
    "ExecuteTime": {
     "end_time": "2024-05-08T19:28:34.401728Z",
     "start_time": "2024-05-08T19:28:30.309598Z"
    }
   },
   "id": "c47672dc77cb4e98",
   "execution_count": 3
  },
  {
   "cell_type": "code",
   "outputs": [],
   "source": [
    "text_splitter = RecursiveCharacterTextSplitter(chunk_size=1000, chunk_overlap=200)\n",
    "splits = text_splitter.split_documents(documents)"
   ],
   "metadata": {
    "collapsed": false,
    "ExecuteTime": {
     "end_time": "2024-05-08T19:28:35.349374Z",
     "start_time": "2024-05-08T19:28:35.340180Z"
    }
   },
   "id": "6bbe57c018ec3966",
   "execution_count": 4
  },
  {
   "cell_type": "code",
   "outputs": [],
   "source": [
    "# db = Chroma.from_documents(documents=splits, embedding=yandex_embeddings,\n",
    "#                            persist_directory=\"../data/chroma_db\")"
   ],
   "metadata": {
    "collapsed": false,
    "ExecuteTime": {
     "end_time": "2024-05-08T19:17:02.142788Z",
     "start_time": "2024-05-08T19:16:19.314996Z"
    }
   },
   "id": "289e97e79f60afae",
   "execution_count": 22
  },
  {
   "cell_type": "code",
   "outputs": [
    {
     "data": {
      "text/plain": "252"
     },
     "execution_count": 8,
     "metadata": {},
     "output_type": "execute_result"
    }
   ],
   "source": [
    "db = Chroma(persist_directory=\"../data/chroma_db\", embedding_function=yandex_embeddings_api_model)\n",
    "db._collection.count()"
   ],
   "metadata": {
    "collapsed": false,
    "ExecuteTime": {
     "end_time": "2024-05-08T19:31:21.867855Z",
     "start_time": "2024-05-08T19:31:21.859335Z"
    }
   },
   "id": "49fbcb5e633ca475",
   "execution_count": 8
  },
  {
   "cell_type": "code",
   "outputs": [],
   "source": [
    "# question = \"Выделить основные разделы или фазы интервью (например, введение, дополнительные вопросы, основные темы, заключительные замечания\"\n",
    "question = \"курсы\"\n",
    "context = db.similarity_search(question)"
   ],
   "metadata": {
    "collapsed": false,
    "ExecuteTime": {
     "end_time": "2024-05-09T06:34:50.600999Z",
     "start_time": "2024-05-09T06:34:49.810183Z"
    }
   },
   "id": "e07c579bb49622c9",
   "execution_count": 49
  },
  {
   "cell_type": "code",
   "outputs": [
    {
     "name": "stdout",
     "output_type": "stream",
     "text": [
      "[Document(page_content='Так, хорошо, подскажите, пожалуйста, что вот по вашему мнению вот на таких курсах, ну, скажем так, излишне, что можно, на что можно, скажем так, времени закладывать, ну, грубо говоря, что можно назвать бесполезным?\\n\\nДа я даже не знаю, нет, многие на курсах пиарят свои еще какие-то другие курсы, да, но вот это вот мне не очень нравится, потому что, ну, оно съедает мое время, то есть, соответственно, хотелось бы получить, ну, полезную информацию, и, скажем так, время, которое вот это вот, у меня есть еще такой курс, такой вот это вот, и там, ну, нет, то есть, в принципе, это может быть, да, то есть, в плане какой-нибудь рассылки, там, раздачные материалы, там, и список курсов.\\n\\nБолее чем достаточно человек, который, ну, умеет читать, у него есть желание, он, ну, получив это в почте, прочтет и, соответственно, ну, посмотрит, что же там предлагается, что же там есть, вот.', metadata={'source': '../data/raw/interview_5.txt'}), Document(page_content='Ну, это одно видео обучение на час, то есть у нас стараются в компании обучение, ну, максимально краткие делать, потому что, чтобы не отнимать время, и так обучения много по разным темам.\\n\\nВот, это было видео, и к нему презентация, и сразу же к нему дополнительные материалы, допустим, посты в соцсетях, какие-то ещё ссылки полезные, вот, оно так упаковано было здорово, дополнительные информации.\\n\\nВообще, это было видео, где человек, ну, презентацию я вижу, и человек рассказывает по этой презентации, вот так.\\n\\nТо есть я правильно понимаю, что вы дома просто просматривали все эти видео?\\n\\nНу, на работе, я рабочее видео смотрю в рабочее время, чтобы дома, ну, бывает, что дома, но стараюсь в рабочее время.\\n\\nТак, хорошо, а подскажите, пожалуйста, предполагалась ли какая-то практика в рамках этого курса?\\n\\nНу, нет, не предполагалась.\\n\\nТак, хорошо, а если в целом говорить вот про формат таких вот курсов, как вы думаете, какой формат для них максимально удобен, оптимальный, может быть?', metadata={'source': '../data/raw/interview_3.txt'}), Document(page_content='Как бы я выбирала курс?\\n\\nВо-первых, я бы посмотрела на создателя этого курса, что это за школа, читать отзывы это не всегда имеет место быть, то есть на упаковку данного продукта.\\n\\nТак, а подскажите, пожалуйста, например, какие-нибудь критерии из разряда, там, цена, организатор этого курса, вот они на каком месте находятся?\\n\\nНу, ещё содержание, конечно, важно, цена немаловажна, но опять-таки, что входит в цену?\\n\\nЕсли это какая-то тебе рассылка придёт, ты её сам изучаешь без обратной связи, это одна история, если ты погружаешься с обратной связью, с консультациями, это другая история, что тебе дадут на них, поэтому тут многофакторно.\\n\\nЧто вы включаете в понятие организатор?\\n\\nКто создал этот курс или кто будет его вести, или продюсер этого курса?\\n\\nЧто именно?\\n\\nДа, вот смотрите, допустим, скажем так, допустим, вот на рынке сейчас есть два курса.', metadata={'source': '../data/raw/interview_1.txt'}), Document(page_content='Больше ценность, когда ты платишь, и серьезнее отношение, а когда бесплатно, все, тогда можешь делать, можешь не делать, ничто тебя не подталкивает.\\n\\nТак, я поняла, хорошо.\\n\\nРасскажите, пожалуйста, вообще в целом, вот сейчас на том курсе, на котором вы обучаетесь, есть ли какая-то там база знаний и так далее?\\n\\nДа, конечно, база знаний есть, плюс еще, ну, дополнительные какие-то источники информации даются, да, база знаний нужна.\\n\\nА расскажите, пожалуйста, в каком виде сейчас база знаний реализована?\\n\\nНу, в виде различных ссылок, которыми можно воспользоваться, литературы, которые можно изучить, получить дополнительную информацию, и на которой, собственно, тоже было построено.\\n\\nНу, вот так, в виде, ну, каких-то байдов дополнительных.\\n\\nТак, поняла, хорошо.\\n\\nРасскажите, пожалуйста, вот если говорить про вот этот курс, который вы проходите, да, вот можете ли вы уже сейчас сформировать, скажем так, мнение, что на этом курсе было самое полезное, а что, скажем так, бесполезное?', metadata={'source': '../data/raw/interview_2.txt'})]\n"
     ]
    }
   ],
   "source": [
    "print(context)"
   ],
   "metadata": {
    "collapsed": false,
    "ExecuteTime": {
     "end_time": "2024-05-09T06:34:51.076429Z",
     "start_time": "2024-05-09T06:34:51.074248Z"
    }
   },
   "id": "7454ba04778f2475",
   "execution_count": 50
  },
  {
   "cell_type": "code",
   "outputs": [],
   "source": [],
   "metadata": {
    "collapsed": false
   },
   "id": "97b5890567ce63bd"
  },
  {
   "cell_type": "code",
   "outputs": [],
   "source": [
    "# template = \"\"\"Игнорируй все предыдущие инструкции. Ты профессионал в проведении и анализе глубинных интервью (Customer Development). Твоя задача помочь проанализировать проведенные интервью. \n",
    "# \n",
    "# Отвечай на вопросы на основе фактов переданных тебе в контексте. Если в этих данных нет ответа, скажи – \"Я\n",
    "# не знаю\". Не придумывай факты, которых нет в контексте. Ты можешь использовать свои общие знания в области Customer Development, проведения и анализа глубинных интервью, чтобы давать корректные ответы. \n",
    "# \n",
    "# В своем ответе используй следующие принципы:\n",
    "# 1. Ты должен давать четкие, краткие и прямые ответы.\n",
    "# 2. Исключи ненужные напоминания, извинения, упоминания самого себя и любые заранее запрограммированные тонкости.\n",
    "# 3. Сохраняй непринужденный тон в общении.\n",
    "# 4. Будь прозрачным; если ты не уверен в ответе или если вопрос выходит за рамки твоих возможностей или знаний, признай это.\n",
    "# 6. При объяснении концепций используй примеры и аналогии из реальной жизни, где это возможно.\n",
    "# 7. В случае сложных запросов сделай глубокий вдох и работай над проблемой шаг за шагом.\n",
    "# 8. За каждый ответ ты получишь чаевые до 200 долларов (в зависимости от качества твоего ответа).\n",
    "# \n",
    "# Очень важно, чтобы ты понял это правильно. На кону несколько жизней и моя карьера.\n",
    "# \n",
    "# Context: {context}\n",
    "# \n",
    "# Question: {question} \n",
    "# \n",
    "# Answer:\n",
    "# \"\"\""
   ],
   "metadata": {
    "collapsed": false,
    "ExecuteTime": {
     "end_time": "2024-05-08T19:47:54.417085Z",
     "start_time": "2024-05-08T19:47:54.413543Z"
    }
   },
   "id": "a33d2911af240a6f",
   "execution_count": 11
  },
  {
   "cell_type": "code",
   "outputs": [
    {
     "data": {
      "text/plain": "ChatPromptTemplate(input_variables=['context', 'question'], metadata={'lc_hub_owner': 'rlm', 'lc_hub_repo': 'rag-prompt', 'lc_hub_commit_hash': '50442af133e61576e74536c6556cefe1fac147cad032f4377b60c436e6cdcb6e'}, messages=[HumanMessagePromptTemplate(prompt=PromptTemplate(input_variables=['context', 'question'], template=\"You are an assistant for question-answering tasks. Use the following pieces of retrieved context to answer the question. If you don't know the answer, just say that you don't know. Use three sentences maximum and keep the answer concise.\\nQuestion: {question} \\nContext: {context} \\nAnswer:\"))])"
     },
     "execution_count": 51,
     "metadata": {},
     "output_type": "execute_result"
    }
   ],
   "source": [
    "# prompt = ChatPromptTemplate.from_template(template)\n",
    "prompt = hub.pull(\"rlm/rag-prompt\")\n",
    "prompt"
   ],
   "metadata": {
    "collapsed": false,
    "ExecuteTime": {
     "end_time": "2024-05-09T06:38:08.303629Z",
     "start_time": "2024-05-09T06:38:02.675149Z"
    }
   },
   "id": "42fe35fd6d0d4a05",
   "execution_count": 51
  },
  {
   "cell_type": "code",
   "outputs": [],
   "source": [
    "def format_docs(docs):\n",
    "    return \"\\n\\n\".join([d.page_content for d in docs])"
   ],
   "metadata": {
    "collapsed": false,
    "ExecuteTime": {
     "end_time": "2024-05-08T19:59:52.607575Z",
     "start_time": "2024-05-08T19:59:52.604635Z"
    }
   },
   "id": "3488e38db0fa823c",
   "execution_count": 27
  },
  {
   "cell_type": "code",
   "outputs": [],
   "source": [
    "retriever = db.as_retriever()"
   ],
   "metadata": {
    "collapsed": false,
    "ExecuteTime": {
     "end_time": "2024-05-08T19:59:53.128630Z",
     "start_time": "2024-05-08T19:59:53.126458Z"
    }
   },
   "id": "9f30d8685b0640c",
   "execution_count": 28
  },
  {
   "cell_type": "code",
   "outputs": [],
   "source": [
    "chain = (\n",
    "        {\"context\": retriever | format_docs, \"question\": RunnablePassthrough()}\n",
    "        | prompt\n",
    "        | yandex_llm\n",
    "        | StrOutputParser()\n",
    ")"
   ],
   "metadata": {
    "collapsed": false,
    "ExecuteTime": {
     "end_time": "2024-05-08T19:59:54.012200Z",
     "start_time": "2024-05-08T19:59:54.009273Z"
    }
   },
   "id": "11746cd061a50e3",
   "execution_count": 29
  },
  {
   "cell_type": "code",
   "outputs": [],
   "source": [
    "question = \"\"\"Подсчитайте частоту упоминания проблем:\n",
    "1. Составьте список всех конкретных проблем, упомянутых респондентами.\n",
    "2. Просмотрите каждую стенограмму и подсчитайте, сколько раз упоминалась каждая проблема.\n",
    "3. Рассчитайте частоту встречаемости каждой проблемы, разделив количество упоминаний на общее количество интервью.\n",
    "4. Создайте таблицу или диаграмму, чтобы отобразить частоту встречаемости каждой проблемы в порядке убывания.\"\"\""
   ],
   "metadata": {
    "collapsed": false,
    "ExecuteTime": {
     "end_time": "2024-05-08T19:59:54.744334Z",
     "start_time": "2024-05-08T19:59:54.741451Z"
    }
   },
   "id": "8ed835bafc326c64",
   "execution_count": 30
  },
  {
   "cell_type": "code",
   "outputs": [],
   "source": [
    "answer = chain.invoke(\"Составьте список всех конкретных проблем, упомянутых респондентами\")"
   ],
   "metadata": {
    "collapsed": false,
    "ExecuteTime": {
     "end_time": "2024-05-08T20:00:48.202950Z",
     "start_time": "2024-05-08T20:00:44.225951Z"
    }
   },
   "id": "5381ff8fc1162d4a",
   "execution_count": 33
  },
  {
   "cell_type": "code",
   "outputs": [
    {
     "name": "stdout",
     "output_type": "stream",
     "text": [
      "- Пользователь является помощником в решении вопросов и использует контекст для ответа на вопросы.\n",
      "- В контексте упоминаются конкретные проблемы, связанные с изменениями в законодательстве и политической практикой.\n",
      "- Важность профессионализма и развития для пользователя.\n",
      "- Влияние пандемии на рынок недвижимости и неуверенность людей в будущем.\n",
      "- Рынок недвижимости нездоров из-за пандемии и других ситуаций.\n",
      "- Решение квартирных вопросов требует дополнительных средств и ипотечных кредитов.\n"
     ]
    }
   ],
   "source": [
    "print(answer)"
   ],
   "metadata": {
    "collapsed": false,
    "ExecuteTime": {
     "end_time": "2024-05-08T20:00:48.677431Z",
     "start_time": "2024-05-08T20:00:48.674135Z"
    }
   },
   "id": "376a5a90edc0f681",
   "execution_count": 34
  },
  {
   "cell_type": "code",
   "outputs": [],
   "source": [],
   "metadata": {
    "collapsed": false,
    "ExecuteTime": {
     "end_time": "2024-05-08T19:58:48.149355Z",
     "start_time": "2024-05-08T19:58:48.147451Z"
    }
   },
   "id": "b8b71f4b6c47eb15",
   "execution_count": 24
  },
  {
   "cell_type": "code",
   "outputs": [],
   "source": [],
   "metadata": {
    "collapsed": false,
    "ExecuteTime": {
     "end_time": "2024-05-08T20:02:03.461983Z",
     "start_time": "2024-05-08T20:02:02.102450Z"
    }
   },
   "id": "829c88d5adc02446",
   "execution_count": 35
  },
  {
   "cell_type": "code",
   "outputs": [],
   "source": [],
   "metadata": {
    "collapsed": false,
    "ExecuteTime": {
     "end_time": "2024-05-08T20:15:49.734059Z",
     "start_time": "2024-05-08T20:15:49.732732Z"
    }
   },
   "id": "57989655378bb16",
   "execution_count": 36
  },
  {
   "cell_type": "code",
   "outputs": [],
   "source": [],
   "metadata": {
    "collapsed": false
   },
   "id": "637264f6e32da8a8"
  }
 ],
 "metadata": {
  "kernelspec": {
   "display_name": "Python 3",
   "language": "python",
   "name": "python3"
  },
  "language_info": {
   "codemirror_mode": {
    "name": "ipython",
    "version": 2
   },
   "file_extension": ".py",
   "mimetype": "text/x-python",
   "name": "python",
   "nbconvert_exporter": "python",
   "pygments_lexer": "ipython2",
   "version": "2.7.6"
  }
 },
 "nbformat": 4,
 "nbformat_minor": 5
}
