{
 "cells": [
  {
   "cell_type": "code",
   "execution_count": 28,
   "id": "initial_id",
   "metadata": {
    "collapsed": true,
    "ExecuteTime": {
     "end_time": "2024-05-14T13:32:28.076466Z",
     "start_time": "2024-05-14T13:32:28.074839Z"
    }
   },
   "outputs": [],
   "source": [
    "import os\n",
    "import sqlite3\n",
    "import markdown2\n",
    "from dotenv import load_dotenv"
   ]
  },
  {
   "cell_type": "code",
   "outputs": [],
   "source": [
    "load_dotenv()\n",
    "PATH_TO_DB = os.getenv(\"PATH_TO_DB\")"
   ],
   "metadata": {
    "collapsed": false,
    "ExecuteTime": {
     "end_time": "2024-05-14T13:23:45.965227Z",
     "start_time": "2024-05-14T13:23:45.962526Z"
    }
   },
   "id": "9300128d01152dd5",
   "execution_count": 2
  },
  {
   "cell_type": "code",
   "outputs": [],
   "source": [
    "def read_db(sql: str = None, db: str = PATH_TO_DB):\n",
    "    connect = sqlite3.connect(db)\n",
    "    cursor = connect.cursor()\n",
    "    cursor.execute(sql)\n",
    "    rows = cursor.fetchall()\n",
    "    \n",
    "    return rows"
   ],
   "metadata": {
    "collapsed": false,
    "ExecuteTime": {
     "end_time": "2024-05-14T13:27:59.834621Z",
     "start_time": "2024-05-14T13:27:59.832600Z"
    }
   },
   "id": "86a5f1861c315545",
   "execution_count": 18
  },
  {
   "cell_type": "code",
   "outputs": [],
   "source": [
    "answer_4 = read_db(\"select answer from llm_results where id = 4\")\n",
    "answer_5 = read_db(\"select answer from llm_results where id = 5\")"
   ],
   "metadata": {
    "collapsed": false,
    "ExecuteTime": {
     "end_time": "2024-05-14T13:32:19.577280Z",
     "start_time": "2024-05-14T13:32:19.574976Z"
    }
   },
   "id": "ceb1204347651b3d",
   "execution_count": 27
  },
  {
   "cell_type": "code",
   "outputs": [],
   "source": [
    "md_content = markdown2.markdown(answer_5[0][0])\n",
    "\n",
    "# Открытие файла для записи ('w' - режим записи)\n",
    "with open(\"llm_results_5.md\", \"w\", encoding=\"utf-8\") as f:\n",
    "    # Запись данных в файл\n",
    "    f.write(md_content)"
   ],
   "metadata": {
    "collapsed": false,
    "ExecuteTime": {
     "end_time": "2024-05-14T13:32:43.706674Z",
     "start_time": "2024-05-14T13:32:43.688495Z"
    }
   },
   "id": "6ce55a49cb0373e1",
   "execution_count": 29
  },
  {
   "cell_type": "code",
   "outputs": [],
   "source": [],
   "metadata": {
    "collapsed": false
   },
   "id": "e67c523c5ae17fbe"
  }
 ],
 "metadata": {
  "kernelspec": {
   "display_name": "Python 3",
   "language": "python",
   "name": "python3"
  },
  "language_info": {
   "codemirror_mode": {
    "name": "ipython",
    "version": 2
   },
   "file_extension": ".py",
   "mimetype": "text/x-python",
   "name": "python",
   "nbconvert_exporter": "python",
   "pygments_lexer": "ipython2",
   "version": "2.7.6"
  }
 },
 "nbformat": 4,
 "nbformat_minor": 5
}
