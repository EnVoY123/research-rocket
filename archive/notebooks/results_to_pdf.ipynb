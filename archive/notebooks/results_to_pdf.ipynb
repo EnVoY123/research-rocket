{
 "cells": [
  {
   "cell_type": "code",
   "execution_count": 22,
   "id": "initial_id",
   "metadata": {
    "collapsed": true,
    "ExecuteTime": {
     "end_time": "2024-05-18T09:43:28.114902Z",
     "start_time": "2024-05-18T09:43:28.097405Z"
    }
   },
   "outputs": [
    {
     "data": {
      "text/plain": "''"
     },
     "execution_count": 22,
     "metadata": {},
     "output_type": "execute_result"
    }
   ],
   "source": [
    "from fpdf import FPDF\n",
    "# \n",
    "# pdf = FPDF()\n",
    "# pdf.add_page()\n",
    "# pdf.add_font('Arial', '', '../src/font/arialmt.ttf',  uni=True)\n",
    "# pdf.set_font('Arial', size=25)\n",
    "# pdf.cell(200,10, txt=\"Привет\", ln=1, align='L')\n",
    "# pdf.output(\"results.pdf\")"
   ]
  },
  {
   "cell_type": "code",
   "outputs": [],
   "source": [],
   "metadata": {
    "collapsed": false,
    "ExecuteTime": {
     "end_time": "2024-05-18T09:37:24.252727Z",
     "start_time": "2024-05-18T09:37:24.250322Z"
    }
   },
   "id": "7b258878bfcfa181",
   "execution_count": 13
  },
  {
   "cell_type": "code",
   "outputs": [],
   "source": [
    "pdf = FPDF()\n",
    "\n",
    "# Добавляем новую страницу с указанными параметрами\n",
    "pdf.add_page()\n",
    "pdf.add_font('Arial', '', '../src/font/arialmt.ttf',  uni=True)\n",
    "pdf.set_font(\"Arial\", size=12)  # Устанавливаем шрифт и размер текста\n",
    "\n",
    "# Размеры страницы (в миллиметрах)\n",
    "pdf.set_left_margin(10)  # Устанавливаем левый отступ\n",
    "pdf.set_right_margin(10)  # Устанавливаем правый отступ\n",
    "pdf.set_top_margin(10)  # Устанавливаем верхний отступ\n",
    "pdf.set_auto_page_break(auto=True, margin=10)  # Включаем автоматический перенос текста на следующую страницу при достижении отступа\n",
    "\n",
    "# Ваш текст\n",
    "\n",
    "\n",
    "# Добавляем текст на страницу\n",
    "pdf.multi_cell(0, 10, text)\n",
    "\n",
    "# Сохраняем PDF\n",
    "pdf.output(\"output.pdf\")"
   ],
   "metadata": {
    "collapsed": false
   },
   "id": "3c4d633de168a836"
  }
 ],
 "metadata": {
  "kernelspec": {
   "display_name": "Python 3",
   "language": "python",
   "name": "python3"
  },
  "language_info": {
   "codemirror_mode": {
    "name": "ipython",
    "version": 2
   },
   "file_extension": ".py",
   "mimetype": "text/x-python",
   "name": "python",
   "nbconvert_exporter": "python",
   "pygments_lexer": "ipython2",
   "version": "2.7.6"
  }
 },
 "nbformat": 4,
 "nbformat_minor": 5
}
