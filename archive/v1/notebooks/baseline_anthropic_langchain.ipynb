{
 "cells": [
  {
   "cell_type": "code",
   "execution_count": 412,
   "id": "initial_id",
   "metadata": {
    "collapsed": true,
    "ExecuteTime": {
     "end_time": "2024-05-18T12:06:44.409905Z",
     "start_time": "2024-05-18T12:06:44.406585Z"
    }
   },
   "outputs": [],
   "source": [
    "import os\n",
    "import re\n",
    "import time\n",
    "import tiktoken\n",
    "from dotenv import load_dotenv\n",
    "from fpdf import FPDF\n",
    "from langchain_community.document_loaders import DirectoryLoader\n",
    "from langchain.prompts import PromptTemplate\n",
    "from langchain_anthropic import ChatAnthropic"
   ]
  },
  {
   "cell_type": "code",
   "outputs": [],
   "source": [
    "load_dotenv()\n",
    "\n",
    "encoding = tiktoken.get_encoding(\"cl100k_base\")\n",
    "ANTHROPIC_API_KEY = os.getenv(\"ANTHROPIC_API_KEY\")"
   ],
   "metadata": {
    "collapsed": false,
    "ExecuteTime": {
     "end_time": "2024-05-18T08:20:11.900275Z",
     "start_time": "2024-05-18T08:20:11.896189Z"
    }
   },
   "id": "d99b6d4be2b1b22c",
   "execution_count": 139
  },
  {
   "cell_type": "code",
   "outputs": [],
   "source": [
    "# TODO:\n",
    "#   step 1: Structuring the transcripts: ???? Переложить в таблицу\n",
    "#   step 2: Performing initial coding: \n",
    "#   step 3: need res prev step and then Finding topics and themes: \n",
    "#   step 4: Calculating the frequency of problems mentioned\n",
    "#   step 5: need res prev step and then Grouping problems into categories \n",
    "#   step 6: need res prev step and then Making insights and forming hypotheses "
   ],
   "metadata": {
    "collapsed": false,
    "ExecuteTime": {
     "end_time": "2024-05-18T07:26:27.108336Z",
     "start_time": "2024-05-18T07:26:27.106211Z"
    }
   },
   "id": "50d624438616fd4d",
   "execution_count": 68
  },
  {
   "cell_type": "markdown",
   "source": [
    "## Functions"
   ],
   "metadata": {
    "collapsed": false
   },
   "id": "475ae3cca7bae536"
  },
  {
   "cell_type": "code",
   "outputs": [],
   "source": [
    "def get_part_answer_llm(input_string: str = None, tag: str = None) -> str:\n",
    "    pattern = re.compile(rf\"<{tag}>(.*?)<\\/{tag}>\", re.DOTALL)\n",
    "    matches = pattern.search(input_string)\n",
    "\n",
    "    results = \"\"\n",
    "    if matches:\n",
    "        extracted_data = matches.group(1)\n",
    "        results += extracted_data\n",
    "\n",
    "    text = re.sub(r'^\\s*-\\s*', '', results, flags=re.MULTILINE)\n",
    "    text = re.sub(r'\\n', '. ', text)\n",
    "    text = re.sub(r'\\s*\\.\\s*', '. ', text)\n",
    "    text = re.sub(r'\\s+', ' ', text)\n",
    "    text = text.strip(' .')\n",
    "    \n",
    "    return text.strip()"
   ],
   "metadata": {
    "collapsed": false,
    "ExecuteTime": {
     "end_time": "2024-05-18T11:44:36.933705Z",
     "start_time": "2024-05-18T11:44:36.931337Z"
    }
   },
   "id": "587f2d094c509917",
   "execution_count": 389
  },
  {
   "cell_type": "markdown",
   "source": [
    "## Load files"
   ],
   "metadata": {
    "collapsed": false
   },
   "id": "c38ef395f80ed39e"
  },
  {
   "cell_type": "code",
   "outputs": [
    {
     "name": "stdout",
     "output_type": "stream",
     "text": [
      "index: 0, file: interview_2.txt, length: 33951, tokens: 15518.\n",
      "index: 1, file: interview_1.txt, length: 36025, tokens: 16647.\n"
     ]
    }
   ],
   "source": [
    "loader = DirectoryLoader(\"../data/demo\", glob=\"*.txt\")\n",
    "documents = loader.load()\n",
    "\n",
    "for num, doc in enumerate(documents):\n",
    "    print(\n",
    "        f\"index: {num}, file: {doc.metadata['source'][-15:]}, length: {len(doc.page_content)}, tokens: {len(encoding.encode(doc.page_content))}.\")"
   ],
   "metadata": {
    "collapsed": false,
    "ExecuteTime": {
     "end_time": "2024-05-18T08:20:17.846466Z",
     "start_time": "2024-05-18T08:20:17.151440Z"
    }
   },
   "id": "8a03eab8af23e00f",
   "execution_count": 140
  },
  {
   "cell_type": "code",
   "outputs": [],
   "source": [
    "interview_1 = documents[0].page_content\n",
    "interview_2 = documents[1].page_content"
   ],
   "metadata": {
    "collapsed": false,
    "ExecuteTime": {
     "end_time": "2024-05-18T08:20:19.910907Z",
     "start_time": "2024-05-18T08:20:19.908152Z"
    }
   },
   "id": "6c2f5427731f0bc6",
   "execution_count": 141
  },
  {
   "cell_type": "markdown",
   "source": [
    "## Model"
   ],
   "metadata": {
    "collapsed": false
   },
   "id": "379d713f73f7c2b2"
  },
  {
   "cell_type": "code",
   "outputs": [],
   "source": [
    "llm_haiku = ChatAnthropic(api_key=ANTHROPIC_API_KEY, model=\"claude-3-haiku-20240307\", max_tokens=4096, temperature=0.0)\n",
    "llm_haiku_t = ChatAnthropic(api_key=ANTHROPIC_API_KEY, model=\"claude-3-haiku-20240307\", max_tokens=4096, temperature=0.5)"
   ],
   "metadata": {
    "collapsed": false,
    "ExecuteTime": {
     "end_time": "2024-05-18T12:03:15.983361Z",
     "start_time": "2024-05-18T12:03:15.898391Z"
    }
   },
   "id": "5f17d9e5c1551dfb",
   "execution_count": 411
  },
  {
   "cell_type": "markdown",
   "source": [
    "## For One Interview"
   ],
   "metadata": {
    "collapsed": false
   },
   "id": "21404133ad7a6614"
  },
  {
   "cell_type": "code",
   "outputs": [],
   "source": [
    "def asks_llm(llm: None, raw_data: list[str] = None, text_template: str = None, input_variables: list[str] = None):\n",
    "    \"\"\"\n",
    "    \n",
    "    :param llm: \n",
    "    :param raw_interview: \n",
    "    :param text_template: \n",
    "    :param input_variables: \n",
    "    :param input_chain: \n",
    "    :return: \n",
    "    \"\"\"\n",
    "\n",
    "    upd = \"\\nAttention, this is important! Always send the full text of the response in Russian only. Thanks!\"\n",
    "\n",
    "    prompt = PromptTemplate(input_variables=input_variables, template=text_template + upd)\n",
    "    chain = prompt | llm\n",
    "\n",
    "    input_chain = {}\n",
    "    for var, data in zip(input_variables, raw_data):\n",
    "        input_chain[var] = data\n",
    "         \n",
    "    answer = chain.invoke(input_chain)\n",
    "    return answer"
   ],
   "metadata": {
    "collapsed": false,
    "ExecuteTime": {
     "end_time": "2024-05-18T11:15:14.812733Z",
     "start_time": "2024-05-18T11:15:14.809405Z"
    }
   },
   "id": "df0b3ae4b8b140bd",
   "execution_count": 359
  },
  {
   "cell_type": "code",
   "outputs": [],
   "source": [
    "# answer_1 = asks_llm(\n",
    "#     llm=llm_haiku, raw_data=[interview_1],\n",
    "#     text_template=\"\"\"\n",
    "#         Please read the interview provided to you carefully and follow the instructions below step by step: <interview>{raw_interview}</interview>\n",
    "# \n",
    "#         Step-by-step instructions:\n",
    "#         1. Identify the main sections or phases of the interview, for example, introduction, general questions, main topics, concluding remarks. (In <section_main_phases> tags.)\n",
    "#         2. Break down each transcript into these sections, marking the beginning and end of each part. (In <section_transcripts> tags.)\n",
    "#         3. Create a standardized template for  <main_sections>structuring</main_sections> the transcripts consistently. (In <section_table> tags.)\"\"\",\n",
    "#     input_variables=[\"raw_interview\"],\n",
    "# )"
   ],
   "metadata": {
    "collapsed": false
   },
   "id": "3e7b7eb1374dc9a5",
   "execution_count": null
  },
  {
   "cell_type": "code",
   "outputs": [],
   "source": [
    "# answer_1_section_table = get_part_answer_llm(input_string=answer_1.content, tag=\"section_table\")\n",
    "# print(answer_1_section_table)"
   ],
   "metadata": {
    "collapsed": false,
    "ExecuteTime": {
     "end_time": "2024-05-18T10:37:05.315237Z",
     "start_time": "2024-05-18T10:37:05.313415Z"
    }
   },
   "id": "66811bca2e014da6",
   "execution_count": 293
  },
  {
   "cell_type": "code",
   "outputs": [],
   "source": [
    "# answer_2 = asks_llm(\n",
    "#     llm=llm_haiku, raw_data=[interview_1],\n",
    "#     text_template=\"\"\"\n",
    "#         Please read the interview provided to you carefully and follow the instructions below step by step: <interview>{raw_interview}</interview>\n",
    "#         \n",
    "#         Step-by-step instructions:\n",
    "#         1. Read through each interviews carefully and highlight or underline key phrases, words, or sentences that capture important ideas, concepts, or experiences. (In <section_key_phrases> tags.)\n",
    "#         2. Assign preliminary codes or labels to these highlighted segments, using short descriptive phrases or words that summarize the main idea. (In <section_codes> tags.)\"\"\",\n",
    "#     input_variables=[\"raw_interview\"],\n",
    "# )"
   ],
   "metadata": {
    "collapsed": false,
    "ExecuteTime": {
     "end_time": "2024-05-18T11:45:00.933024Z",
     "start_time": "2024-05-18T11:44:52.122230Z"
    }
   },
   "id": "ea6560a7013b26f9",
   "execution_count": 391
  },
  {
   "cell_type": "code",
   "outputs": [
    {
     "name": "stdout",
     "output_type": "stream",
     "text": [
      "Профиль респондента. Сфера деятельности и специализация. Форматы сделок. Должностные обязанности. Обязательное начальное обучение. Постоянное повышение квалификации. Источники информации. Предпочтения в форматах обучения. Важность обратной связи и групповой работы. Мнение о платности обучения. Потребность в обучении по инвестициям\n"
     ]
    }
   ],
   "source": [
    "# answer_2_section_codes = get_part_answer_llm(input_string=answer_2.content, tag=\"section_codes\")\n",
    "# print(answer_2_section_codes)"
   ],
   "metadata": {
    "collapsed": false,
    "ExecuteTime": {
     "end_time": "2024-05-18T11:45:01.533814Z",
     "start_time": "2024-05-18T11:45:01.530850Z"
    }
   },
   "id": "8fa4bda43f7ba8a5",
   "execution_count": 392
  },
  {
   "cell_type": "code",
   "outputs": [],
   "source": [
    "# answer_3 = asks_llm(\n",
    "#     llm=llm_haiku, raw_data=[interview_1, answer_2_section_codes],\n",
    "#     text_template=\"\"\"\n",
    "#         Please read the interview provided to you carefully and follow the instructions below step by step: <interview>{raw_interview}</interview>\n",
    "#         \n",
    "#         Step-by-step instructions:\n",
    "#         1. Look through the thematics codes <interview_code>{interview_code}</interview_code> and find patterns, similarities, or relationships among them. (In <section_relationships> tags.)\n",
    "#         2. Group related thematics codes together into broader categories or themes that capture the main topics discussed in the interviews. (In <section_group> tags.)\n",
    "#         3. Identify any sub-themes within each main theme to provide a more detailed understanding of the topics. (In <section_sub-themes> tags.)\n",
    "#         4. Create a diagram of the relationships between topics and subtopics to illustrate their relationship. (In <section_map> tags.)\"\"\",\n",
    "#     input_variables=[\"raw_interview\", \"interview_code\"]\n",
    "# )"
   ],
   "metadata": {
    "collapsed": false,
    "ExecuteTime": {
     "end_time": "2024-05-18T11:19:20.803710Z",
     "start_time": "2024-05-18T11:19:07.322251Z"
    }
   },
   "id": "dce98f65e6008516",
   "execution_count": 364
  },
  {
   "cell_type": "code",
   "outputs": [
    {
     "name": "stdout",
     "output_type": "stream",
     "text": [
      "<section_relationships>\n",
      "В интервью можно выделить следующие взаимосвязи между тематическими кодами:\n",
      "\n",
      "- Профиль респондента и сфера деятельности/специализация: Светлана имеет педагогическое образование, но перешла в сферу недвижимости, чтобы зарабатывать больше денег.\n",
      "- Начальное обучение и его значение: Светлана прошла обязательное обучение в агентстве недвижимости, чтобы получить необходимые знания и навыки для работы риелтором.\n",
      "- Непрерывное обучение и повышение квалификации: Светлана продолжает регулярно проходить различные курсы и тренинги, чтобы быть в курсе изменений на рынке и повышать свою компетентность.\n",
      "- Источники информации и их оценка: Светлана активно использует телеграм-каналы, рассылки от партнеров и другие источники для получения актуальной информации о рынке недвижимости.\n",
      "- Обратная связь и групповая работа в обучении: Светлана отмечает важность обратной связи от преподавателей и возможности обсуждения материала в группе во время обучения.\n",
      "</section_relationships>\n",
      "\n",
      "<section_group>\n",
      "На основе тематических кодов можно выделить следующие основные темы, обсуждаемые в интервью:\n",
      "\n",
      "1. Профиль и карьерный путь респондента\n",
      "2. Специфика работы в сфере недвижимости\n",
      "3. Обучение и повышение квалификации\n",
      "4. Источники информации и их оценка\n",
      "5. Особенности обучения и групповой работы\n",
      "</section_group>\n",
      "\n",
      "<section_sub-themes>\n",
      "В рамках каждой из основных тем можно выделить следующие подтемы:\n",
      "\n",
      "1. Профиль и карьерный путь респондента:\n",
      "   - Образование и предыдущий опыт работы\n",
      "   - Мотивация перехода в сферу недвижимости\n",
      "\n",
      "2. Специфика работы в сфере недвижимости:\n",
      "   - Виды сделок и их распределение\n",
      "   - Должностные обязанности\n",
      "\n",
      "3. Обучение и повышение квалификации:\n",
      "   - Начальное обучение в агентстве\n",
      "   - Непрерывное обучение и источники\n",
      "   - Оценка эффективности обучения\n",
      "\n",
      "4. Источники информации и их оценка:\n",
      "   - Телеграм-каналы и другие источники\n",
      "   - Критерии оценки достоверности информации\n",
      "\n",
      "5. Особенности обучения и групповой работы:\n",
      "   - Форматы обучения (онлайн/офлайн)\n",
      "   - Обратная связь и групповая работа\n",
      "   - Оптимальная продолжительность занятий\n",
      "</section_sub-themes>\n",
      "\n",
      "<section_map>\n",
      "Взаимосвязь между основными темами и подтемами можно представить в следующей схеме:\n",
      "\n",
      "                        Профиль и карьерный путь респондента\n",
      "                        /                                    \\\n",
      "            Образование и                                Мотивация перехода\n",
      "        предыдущий опыт работы                         в сферу недвижимости\n",
      "                        \\                                    /\n",
      "                         Специфика работы в сфере недвижимости\n",
      "                         /                                    \\\n",
      "        Виды сделок и их                                Должностные\n",
      "        распределение                                   обязанности\n",
      "                         \\                                    /\n",
      "                          Обучение и повышение квалификации\n",
      "                          /                                    \\\n",
      "      Начальное обучение                                Непрерывное обучение\n",
      "      в агентстве                                       и источники\n",
      "                          \\                                    /\n",
      "                           Оценка эффективности обучения\n",
      "                           /                                    \\\n",
      "                          Источники информации и их оценка\n",
      "                          /                                    \\\n",
      "      Телеграм-каналы и                                Критерии оценки\n",
      "      другие источники                                 достоверности\n",
      "                          \\                                    /\n",
      "                           Особенности обучения и групповой работы\n",
      "                           /                                    \\\n",
      "         Форматы обучения                                Обратная связь\n",
      "         (онлайн/офлайн)                                и групповая работа\n",
      "                           \\                                    /\n",
      "                            Оптимальная продолжительность занятий\n",
      "</section_map>\n"
     ]
    }
   ],
   "source": [
    "# print(answer_3.content)"
   ],
   "metadata": {
    "collapsed": false,
    "ExecuteTime": {
     "end_time": "2024-05-18T11:19:21.450568Z",
     "start_time": "2024-05-18T11:19:21.448492Z"
    }
   },
   "id": "d832aea40b6a6e01",
   "execution_count": 365
  },
  {
   "cell_type": "code",
   "outputs": [],
   "source": [
    "# answer_4 = asks_llm(\n",
    "#     llm=llm_haiku, raw_data=[interview_1],\n",
    "#     text_template=\"\"\"\n",
    "#         Please read the interview provided to you carefully and follow the instructions below step by step: <interview>{raw_interview}</interview>\n",
    "#         \n",
    "#         Step-by-step instructions:\n",
    "#         1. Make a list of all the specific problems mentioned by the respondents. (In the <section_problems> tags)\n",
    "#         2. Count how many times each problem has been mentioned. (In the <section_problem_count> tags.)\n",
    "#         3. Create a table to display the frequency of occurrence of each problem in descending order. (In the <section_problem_table> tags.)\n",
    "#         4. Create a table of the frequency of occurrence of each problem by dividing the number of dimensions of the problem by the total number of problems. In the table, be sure to show the problem itself, how many times it occurs, its share relative to all problems, and the total number of problems. (In the <section_problem_table_normalize> tags).\n",
    "#         \"\"\",\n",
    "#     input_variables=[\"raw_interview\"]\n",
    "# )"
   ],
   "metadata": {
    "collapsed": false,
    "ExecuteTime": {
     "end_time": "2024-05-18T11:41:33.874664Z",
     "start_time": "2024-05-18T11:41:27.368733Z"
    }
   },
   "id": "4557ac1110899270",
   "execution_count": 382
  },
  {
   "cell_type": "code",
   "outputs": [
    {
     "name": "stdout",
     "output_type": "stream",
     "text": [
      "<section_problems>\n",
      "- Недостаток обучения по инвестициям в недвижимость\n",
      "- Большое количество участников в группах на курсах (более 15 человек)\n",
      "- Недостаток обучения по юридическим аспектам в сфере недвижимости\n",
      "</section_problems>\n",
      "\n",
      "<section_problem_count>\n",
      "- Недостаток обучения по инвестициям в недвижимость: 1\n",
      "- Большое количество участников в группах на курсах (более 15 человек): 1\n",
      "- Недостаток обучения по юридическим аспектам в сфере недвижимости: 1\n",
      "</section_problem_count>\n",
      "\n",
      "<section_problem_table>\n",
      "| Проблема | Количество упоминаний |\n",
      "| --- | --- |\n",
      "| Недостаток обучения по инвестициям в недвижимость | 1 |\n",
      "| Большое количество участников в группах на курсах (более 15 человек) | 1 |\n",
      "| Недостаток обучения по юридическим аспектам в сфере недвижимости | 1 |\n",
      "</section_problem_table>\n",
      "\n",
      "<section_problem_table_normalize>\n",
      "| Проблема | Количество упоминаний | Доля от общего числа проблем | Всего проблем |\n",
      "| --- | --- | --- | --- |\n",
      "| Недостаток обучения по инвестициям в недвижимость | 1 | 0.33 | 3 |\n",
      "| Большое количество участников в группах на курсах (более 15 человек) | 1 | 0.33 | 3 |\n",
      "| Недостаток обучения по юридическим аспектам в сфере недвижимости | 1 | 0.33 | 3 |\n",
      "</section_problem_table_normalize>\n"
     ]
    }
   ],
   "source": [
    "# print(answer_4.content)"
   ],
   "metadata": {
    "collapsed": false,
    "ExecuteTime": {
     "end_time": "2024-05-18T11:41:34.800326Z",
     "start_time": "2024-05-18T11:41:34.797118Z"
    }
   },
   "id": "a7aa2164834043d4",
   "execution_count": 383
  },
  {
   "cell_type": "code",
   "outputs": [
    {
     "name": "stdout",
     "output_type": "stream",
     "text": [
      "Недостаток обучения по инвестициям в недвижимость. Большое количество участников в группах на курсах (более 15 человек). Недостаток обучения по юридическим аспектам в сфере недвижимости\n"
     ]
    }
   ],
   "source": [
    "# answer_4_section_problems = get_part_answer_llm(input_string=answer_4.content, tag=\"section_problems\")\n",
    "# print(answer_4_section_problems)"
   ],
   "metadata": {
    "collapsed": false,
    "ExecuteTime": {
     "end_time": "2024-05-18T11:45:33.125347Z",
     "start_time": "2024-05-18T11:45:33.121596Z"
    }
   },
   "id": "812e014db2305032",
   "execution_count": 393
  },
  {
   "cell_type": "code",
   "outputs": [],
   "source": [
    "# answer_5 = asks_llm(\n",
    "#     llm=llm_haiku, raw_data=[interview_1, answer_4_section_problems],\n",
    "#     text_template=\"\"\"\n",
    "#         Please carefully read the interview provided to you and the problems identified in it. Follow the step-by-step instructions below: \n",
    "#         <interview>{raw_interview}</interview> and <interview_problems>{interview_problems}</interview_problems> \n",
    "#         \n",
    "#         Step-by-step instructions:\n",
    "#         1. Review the list of problems and look for commonalities or shared characteristics among them. (In <section_common_features> tags.)\n",
    "#         2. Develop a set of categories or problems types that can encompass the various issues mentioned. (In <section_problems_categories> tags.)\n",
    "#         3. Assignment each problem (<problems>) to one or more relevant categories. (In <section_map> tags.)\n",
    "#         4. Create a summary table or matrix showing the problems grouped by category. (In <section_result> tags.).\n",
    "#         \"\"\",\n",
    "#     input_variables=[\"raw_interview\", \"interview_problems\"]\n",
    "# )"
   ],
   "metadata": {
    "collapsed": false,
    "ExecuteTime": {
     "end_time": "2024-05-18T11:50:44.157705Z",
     "start_time": "2024-05-18T11:50:37.597994Z"
    }
   },
   "id": "2773cb81c649eaec",
   "execution_count": 399
  },
  {
   "cell_type": "code",
   "outputs": [
    {
     "name": "stdout",
     "output_type": "stream",
     "text": [
      "<section_common_features>\n",
      "Основные общие черты проблем, выявленных в интервью:\n",
      "1. Недостаток специализированного обучения по ключевым аспектам деятельности риелтора, таким как инвестиции в недвижимость и юридические вопросы.\n",
      "2. Большое количество участников в группах на курсах, что затрудняет эффективное усвоение материала.\n",
      "</section_common_features>\n",
      "\n",
      "<section_problems_categories>\n",
      "Основные категории проблем:\n",
      "1. Недостаток обучения по специализированным темам\n",
      "2. Неоптимальный формат обучения (большие группы)\n",
      "3. Недостаток обучения по юридическим аспектам\n",
      "</section_problems_categories>\n",
      "\n",
      "<section_map>\n",
      "1. Недостаток обучения по инвестициям в недвижимость - категория 1\n",
      "2. Большое количество участников в группах на курсах (более 15 человек) - категория 2\n",
      "3. Недостаток обучения по юридическим аспектам в сфере недвижимости - категория 3\n",
      "</section_map>\n",
      "\n",
      "<section_result>\n",
      "Сводная таблица проблем, выявленных в интервью:\n",
      "\n",
      "| Категория проблем | Описание проблемы |\n",
      "| --- | --- |\n",
      "| 1. Недостаток обучения по специализированным темам | Недостаток обучения по инвестициям в недвижимость |\n",
      "| 2. Неоптимальный формат обучения (большие группы) | Большое количество участников в группах на курсах (более 15 человек) |\n",
      "| 3. Недостаток обучения по юридическим аспектам | Недостаток обучения по юридическим аспектам в сфере недвижимости |\n",
      "</section_result>\n"
     ]
    }
   ],
   "source": [
    "# print(answer_5.content)"
   ],
   "metadata": {
    "collapsed": false,
    "ExecuteTime": {
     "end_time": "2024-05-18T11:50:47.089104Z",
     "start_time": "2024-05-18T11:50:47.086331Z"
    }
   },
   "id": "3eca3d0e16ec7201",
   "execution_count": 400
  },
  {
   "cell_type": "code",
   "outputs": [
    {
     "name": "stdout",
     "output_type": "stream",
     "text": [
      "Основные категории проблем:. 1. Недостаток обучения по специализированным темам. 2. Неоптимальный формат обучения (большие группы). 3. Недостаток обучения по юридическим аспектам\n"
     ]
    }
   ],
   "source": [
    "# answer_5_section_problems_categories = get_part_answer_llm(input_string=answer_5.content, tag=\"section_problems_categories\")\n",
    "# print(answer_5_section_problems_categories)"
   ],
   "metadata": {
    "collapsed": false,
    "ExecuteTime": {
     "end_time": "2024-05-18T11:52:24.696245Z",
     "start_time": "2024-05-18T11:52:24.693793Z"
    }
   },
   "id": "2264bd81fc7bddf8",
   "execution_count": 401
  },
  {
   "cell_type": "code",
   "outputs": [],
   "source": [
    "# answer_6 = asks_llm(\n",
    "#     llm=llm_haiku_t, raw_data=[interview_1, answer_5_section_problems_categories],\n",
    "#     text_template=\"\"\"\n",
    "#         Please carefully read the interview provided to you and the categories of problems identified in it. Follow the step-by-step instructions below: \n",
    "#         <interview>{raw_interview}</interview> and <interview_problems>{interview_problems_categories}</interview_problems> \n",
    "#         \n",
    "#         Step-by-step instructions:\n",
    "#         1. Analyze the topics, frequency of problems and their categories (<problems>). (In the <section_reflections> tags). \n",
    "#         2. Analyze what these <reflection_sections> results say about the respondent's experience, views, or difficulties. (In the <section_results> tags). \n",
    "#         3. Pay attention to any unexpected patterns, connections, or contrasts in the data. Share these observations. (In the <section_unexpected> tags).\n",
    "#         4. Develop preliminary explanations or hypotheses about why certain topics or issues have arisen and how they may relate to each other or to broader contextual factors. (In the <section_hypothesis> tags).\n",
    "#         5. Consider alternative explanations and counterexamples to clarify your hypothesis about <section_hypothesis>. (In the <section_alternatives> tags.)\n",
    "#         6. Identify areas where additional research or analysis may be needed to validate your ideas in the <section_alternatives>. (In the <section_additionals> tags).\n",
    "#         \"\"\",\n",
    "#     input_variables=[\"raw_interview\", \"interview_problems_categories\"]\n",
    "# )"
   ],
   "metadata": {
    "collapsed": false,
    "ExecuteTime": {
     "end_time": "2024-05-18T11:59:41.553351Z",
     "start_time": "2024-05-18T11:59:24.709732Z"
    }
   },
   "id": "9145ab3a2d83d696",
   "execution_count": 402
  },
  {
   "cell_type": "code",
   "outputs": [
    {
     "name": "stdout",
     "output_type": "stream",
     "text": [
      "<section_reflections>\n",
      "1. Недостаток обучения по специализированным темам:\n",
      "- Недостаток обучения по инвестициям в недвижимость, особенно в первичный рынок.\n",
      "\n",
      "2. Неоптимальный формат обучения (большие группы):\n",
      "- Большие группы на обучающих курсах (до 50 человек), что затрудняет эффективное усвоение материала.\n",
      "- Предпочтение более компактных групп (до 15 человек) для лучшего взаимодействия и обратной связи.\n",
      "\n",
      "3. Недостаток обучения по юридическим аспектам:\n",
      "- Недостаточное освещение юридических вопросов, связанных с недвижимостью, в том числе налогообложение.\n",
      "</section_reflections>\n",
      "\n",
      "<section_results>\n",
      "Анализ интервью показывает, что респондент имеет достаточно большой опыт работы в сфере недвижимости, но при этом сталкивается с определенными проблемами в процессе обучения и повышения квалификации:\n",
      "\n",
      "1. Недостаток специализированных знаний по инвестициям в недвижимость, особенно на первичном рынке. Это является важным пробелом, так как данное направление становится все более востребованным.\n",
      "\n",
      "2. Неэффективность формата обучения в больших группах, где сложно обеспечить качественную обратную связь и индивидуальный подход. Респондент предпочитает более компактные группы до 15 человек.\n",
      "\n",
      "3. Недостаточное внимание к юридическим аспектам работы с недвижимостью, включая вопросы налогообложения. Это критически важно для риелторской деятельности, где необходимо глубокое понимание правовых норм.\n",
      "</section_results>\n",
      "\n",
      "<section_unexpected>\n",
      "Несмотря на большой опыт работы, респондент продолжает активно учиться и повышать свою квалификацию, используя различные источники информации, включая бесплатные телеграм-каналы и платные курсы. Это говорит о высокой мотивации к профессиональному развитию и стремлении соответствовать требованиям динамично меняющегося рынка недвижимости.\n",
      "</section_unexpected>\n",
      "\n",
      "<section_hypothesis>\n",
      "Основные проблемы, с которыми сталкивается респондент, могут быть связаны с несколькими факторами:\n",
      "\n",
      "1. Быстрое развитие и изменение рынка недвижимости, особенно в сегменте инвестиций, что требует постоянного обновления знаний и навыков.\n",
      "\n",
      "2. Недостаточное предложение качественных обучающих программ, ориентированных на специфику риелторской деятельности, в том числе по юридическим вопросам.\n",
      "\n",
      "3. Высокий спрос на обучение среди риелторов, что приводит к формированию больших групп на курсах, что снижает эффективность обучения.\n",
      "\n",
      "Эти факторы создают определенные трудности для респондента в поддержании высокого уровня профессиональной компетенции.\n",
      "</section_hypothesis>\n",
      "\n",
      "<section_alternatives>\n",
      "Альтернативные объяснения возникших проблем могут включать:\n",
      "\n",
      "1. Недостаточное финансирование или приоритизация обучения внутри компании, в которой работает респондент. Это может ограничивать доступ к качественным обучающим программам.\n",
      "\n",
      "2. Личные предпочтения респондента в отношении формата обучения, которые могут не совпадать с общепринятыми подходами на рынке.\n",
      "\n",
      "3. Возможные пробелы в базовом образовании респондента, которые не были полностью восполнены в процессе перехода в сферу недвижимости.\n",
      "\n",
      "Для более точного понимания причин возникших проблем необходимо дополнительное изучение контекста, в котором работает респондент, а также его личных предпочтений и образовательной истории.\n",
      "</section_alternatives>\n",
      "\n",
      "<section_additionals>\n",
      "Для более полного анализа ситуации и разработки эффективных решений могут потребоваться дополнительные исследования в следующих направлениях:\n",
      "\n",
      "1. Изучение предложения обучающих программ на рынке недвижимости, их соответствия актуальным потребностям риелторов.\n",
      "\n",
      "2. Анализ практик обучения и повышения квалификации, применяемых в ведущих агентствах недвижимости, с целью выявления лучших практик.\n",
      "\n",
      "3. Опрос других риелторов для понимания распространенности выявленных проблем и их влияния на эффективность работы.\n",
      "\n",
      "4. Более глубокое изучение личного опыта и предпочтений респондента в отношении обучения, чтобы выявить индивидуальные факторы, влияющие на его потребности.\n",
      "\n",
      "Комплексный подход к исследованию данной проблематики позволит разработать более обоснованные рекомендации по совершенствованию системы обучения и повышения квалификации риелторов.\n",
      "</section_additionals>\n"
     ]
    }
   ],
   "source": [
    "# print(answer_6.content)"
   ],
   "metadata": {
    "collapsed": false,
    "ExecuteTime": {
     "end_time": "2024-05-18T11:59:45.111791Z",
     "start_time": "2024-05-18T11:59:45.109655Z"
    }
   },
   "id": "43ae5652a9bb3f95",
   "execution_count": 403
  },
  {
   "cell_type": "code",
   "outputs": [],
   "source": [
    "def processing_single_document(raw_interview:str = None):\n",
    "    answer_1 = asks_llm(\n",
    "        llm=llm_haiku, raw_data=[raw_interview],\n",
    "        text_template=\"\"\"\n",
    "        Please read the interview provided to you carefully and follow the instructions below step by step: <interview>{raw_interview}</interview>\n",
    "        \n",
    "        Step-by-step instructions:\n",
    "        1. Identify the main sections or phases of the interview, for example, introduction, general questions, main topics, concluding remarks. (In <section_main_phases> tags.)\n",
    "        2. Break down each transcript into these sections, marking the beginning and end of each part. (In <section_transcripts> tags.)\n",
    "        3. Create a standardized template for  <main_sections>structuring</main_sections> the transcripts consistently. (In <section_table> tags.)\"\"\",\n",
    "        input_variables=[\"raw_interview\"],\n",
    "    )\n",
    "\n",
    "    time.sleep(60)\n",
    "    answer_2 = asks_llm(\n",
    "        llm=llm_haiku, raw_data=[raw_interview],\n",
    "        text_template=\"\"\"\n",
    "        Please read the interview provided to you carefully and follow the instructions below step by step: <interview>{raw_interview}</interview>\n",
    "        \n",
    "        Step-by-step instructions:\n",
    "        1. Read through each interviews carefully and highlight or underline key phrases, words, or sentences that capture important ideas, concepts, or experiences. (In <section_key_phrases> tags.)\n",
    "        2. Assign preliminary codes or labels to these highlighted segments, using short descriptive phrases or words that summarize the main idea. (In <section_codes> tags.)\"\"\",\n",
    "        input_variables=[\"raw_interview\"],\n",
    "    )\n",
    "\n",
    "    time.sleep(60)\n",
    "    answer_2_section_codes = get_part_answer_llm(input_string=answer_2.content, tag=\"section_codes\")\n",
    "    answer_3 = asks_llm(\n",
    "        llm=llm_haiku, raw_data=[raw_interview, answer_2_section_codes],\n",
    "        text_template=\"\"\"\n",
    "        Please read the interview provided to you carefully and follow the instructions below step by step: <interview>{raw_interview}</interview>\n",
    "        \n",
    "        Step-by-step instructions:\n",
    "        1. Look through the thematics codes <interview_code>{interview_code}</interview_code> and find patterns, similarities, or relationships among them. (In <section_relationships> tags.)\n",
    "        2. Group related thematics codes together into broader categories or themes that capture the main topics discussed in the interviews. (In <section_group> tags.)\n",
    "        3. Identify any sub-themes within each main theme to provide a more detailed understanding of the topics. (In <section_sub-themes> tags.)\n",
    "        4. Create a diagram of the relationships between topics and subtopics to illustrate their relationship. (In <section_map> tags.)\"\"\",\n",
    "        input_variables=[\"raw_interview\", \"interview_code\"]\n",
    "    )\n",
    "\n",
    "    time.sleep(60)\n",
    "    answer_4 = asks_llm(\n",
    "        llm=llm_haiku, raw_data=[raw_interview],\n",
    "        text_template=\"\"\"\n",
    "        Please read the interview provided to you carefully and follow the instructions below step by step: <interview>{raw_interview}</interview>\n",
    "        \n",
    "        Step-by-step instructions:\n",
    "        1. Make a list of all the specific problems mentioned by the respondents. (In the <section_problems> tags)\n",
    "        2. Count how many times each problem has been mentioned. (In the <section_problem_count> tags.)\n",
    "        3. Create a table to display the frequency of occurrence of each problem in descending order. (In the <section_problem_table> tags.)\n",
    "        4. Create a table of the frequency of occurrence of each problem by dividing the number of dimensions of the problem by the total number of problems. In the table, be sure to show the problem itself, how many times it occurs, its share relative to all problems, and the total number of problems. (In the <section_problem_table_normalize> tags).\n",
    "        \"\"\",\n",
    "        input_variables=[\"raw_interview\"]\n",
    "    )\n",
    "\n",
    "    time.sleep(60)\n",
    "    answer_4_section_problems = get_part_answer_llm(input_string=answer_4.content, tag=\"section_problems\")\n",
    "    answer_5 = asks_llm(\n",
    "        llm=llm_haiku, raw_data=[raw_interview, answer_4_section_problems],\n",
    "        text_template=\"\"\"\n",
    "        Please carefully read the interview provided to you and the problems identified in it. Follow the step-by-step instructions below: \n",
    "        <interview>{raw_interview}</interview> and <interview_problems>{interview_problems}</interview_problems> \n",
    "        \n",
    "        Step-by-step instructions:\n",
    "        1. Review the list of problems and look for commonalities or shared characteristics among them. (In <section_common_features> tags.)\n",
    "        2. Develop a set of categories or problems types that can encompass the various issues mentioned. (In <section_problems_categories> tags.)\n",
    "        3. Assignment each problem (<problems>) to one or more relevant categories. (In <section_map> tags.)\n",
    "        4. Create a summary table or matrix showing the problems grouped by category. (In <section_result> tags.).\n",
    "        \"\"\",\n",
    "        input_variables=[\"raw_interview\", \"interview_problems\"]\n",
    "    )\n",
    "\n",
    "    time.sleep(60)\n",
    "    answer_5_section_problems_categories = get_part_answer_llm(input_string=answer_5.content, tag=\"section_problems_categories\")\n",
    "    answer_6 = asks_llm(\n",
    "        llm=llm_haiku_t, raw_data=[raw_interview, answer_5_section_problems_categories],\n",
    "        text_template=\"\"\"\n",
    "        Please carefully read the interview provided to you and the categories of problems identified in it. Follow the step-by-step instructions below: \n",
    "        <interview>{raw_interview}</interview> and <interview_problems>{interview_problems_categories}</interview_problems> \n",
    "        \n",
    "        Step-by-step instructions:\n",
    "        1. Analyze the topics, frequency of problems and their categories (<problems>). (In the <section_reflections> tags). \n",
    "        2. Analyze what these <reflection_sections> results say about the respondent's experience, views, or difficulties. (In the <section_results> tags). \n",
    "        3. Pay attention to any unexpected patterns, connections, or contrasts in the data. Share these observations. (In the <section_unexpected> tags).\n",
    "        4. Develop preliminary explanations or hypotheses about why certain topics or issues have arisen and how they may relate to each other or to broader contextual factors. (In the <section_hypothesis> tags).\n",
    "        5. Consider alternative explanations and counterexamples to clarify your hypothesis about <section_hypothesis>. (In the <section_alternatives> tags.)\n",
    "        6. Identify areas where additional research or analysis may be needed to validate your ideas in the <section_alternatives>. (In the <section_additionals> tags).\n",
    "        \"\"\",\n",
    "        input_variables=[\"raw_interview\", \"interview_problems_categories\"]\n",
    "    )\n",
    "    \n",
    "    results = {\n",
    "        \"answer_1\": answer_1.content,\n",
    "        \"answer_2\": answer_2.content,\n",
    "        \"answer_3\": answer_3.content,\n",
    "        \"answer_4\": answer_4.content,\n",
    "        \"answer_5\": answer_5.content,\n",
    "        \"answer_6\": answer_6.content,\n",
    "    }\n",
    "    \n",
    "    return results"
   ],
   "metadata": {
    "collapsed": false,
    "ExecuteTime": {
     "end_time": "2024-05-18T12:14:08.485908Z",
     "start_time": "2024-05-18T12:14:08.477321Z"
    }
   },
   "id": "3cd4f22fdcadd988",
   "execution_count": 416
  },
  {
   "cell_type": "code",
   "outputs": [],
   "source": [
    "results_interview_1 = processing_single_document(raw_interview=interview_1)"
   ],
   "metadata": {
    "collapsed": false,
    "ExecuteTime": {
     "end_time": "2024-05-18T12:20:42.180355Z",
     "start_time": "2024-05-18T12:14:12.517149Z"
    }
   },
   "id": "81a8825f07a7e1c1",
   "execution_count": 417
  },
  {
   "cell_type": "code",
   "outputs": [
    {
     "data": {
      "text/plain": "dict"
     },
     "execution_count": 419,
     "metadata": {},
     "output_type": "execute_result"
    }
   ],
   "source": [
    "type(results_interview_1)"
   ],
   "metadata": {
    "collapsed": false,
    "ExecuteTime": {
     "end_time": "2024-05-18T12:23:09.378705Z",
     "start_time": "2024-05-18T12:23:09.376317Z"
    }
   },
   "id": "63597cf9ab634910",
   "execution_count": 419
  },
  {
   "cell_type": "code",
   "outputs": [],
   "source": [
    "# import json "
   ],
   "metadata": {
    "collapsed": false,
    "ExecuteTime": {
     "end_time": "2024-05-18T12:23:14.947983Z",
     "start_time": "2024-05-18T12:23:14.946055Z"
    }
   },
   "id": "d390ad4dfeaf26b0",
   "execution_count": 420
  },
  {
   "cell_type": "code",
   "outputs": [],
   "source": [
    "# with open(\"results_interview_1.json\", \"w\", encoding='utf-8') as json_file:\n",
    "#     json.dump(results_interview_1, json_file, ensure_ascii=False, indent=4, separators=(',', ': '))"
   ],
   "metadata": {
    "collapsed": false,
    "ExecuteTime": {
     "end_time": "2024-05-18T12:25:15.473819Z",
     "start_time": "2024-05-18T12:25:15.471414Z"
    }
   },
   "id": "314c523b6490f111",
   "execution_count": 424
  },
  {
   "cell_type": "code",
   "outputs": [
    {
     "name": "stdout",
     "output_type": "stream",
     "text": [
      "<section_main_phases>\n",
      "1. Введение и общие вопросы\n",
      "2. Основные темы\n",
      "3. Заключительные замечания\n",
      "</section_main_phases>\n",
      "\n",
      "<section_transcripts>\n",
      "1. Введение и общие вопросы:\n",
      "Давайте начнем тогда, наверное, с таких вот общих вопросов.\n",
      "\n",
      "Светлана, расскажите, пожалуйста, вообще, сколько вам лет, да, вот где живете и как давно работаете в сфере риелдерства?\n",
      "\n",
      "50, живу в Москве, работаю с 15-го года.\n",
      "\n",
      "Я же правильно понимаю, что это ваше, скажем так, не основное образование, правильно, не основное род деятельности?\n",
      "\n",
      "Ну, сейчас это мой основной род деятельности.\n",
      "\n",
      "Образование, конечно, у меня другое, педагогическое было.\n",
      "\n",
      "А расскажите, пожалуйста, почему?\n",
      "\n",
      "Ну, это педагогическое, почему?\n",
      "\n",
      "Ну, почему?\n",
      "\n",
      "Нужны были деньги, я делала сама ипотеку.\n",
      "\n",
      "И начала вначале, я параллельно занималась этой деятельностью, то есть вела педагогическую, руководитель, была руководителем отдела в пед. учреждении, и плюс еще занятия всякие проводила.\n",
      "\n",
      "Учреждение дополнительного образования.\n",
      "\n",
      "И параллельно у своей знакомой, которая тоже, кстати, из образования ушла и работала исполнительным директором в агентстве недвижимости, она меня пригласила, и я начинала просто как риелдер.\n",
      "\n",
      "И потом уже дальше стала руководителем.\n",
      "\n",
      "2. Основные темы:\n",
      "Так, тогда такой вопрос.\n",
      "\n",
      "Смотрите, расскажите, пожалуйста, с какими вообще сделками сейчас работаете?\n",
      "\n",
      "Ну, с разными.\n",
      "\n",
      "То есть агентство занимается полным спектром и аренда, и сделки по вторичной недвижимости, и на первичном рынке с новостройками тоже работаем.\n",
      "\n",
      "А как вы думаете, каких сделок у вас больше?\n",
      "\n",
      "Сейчас стало больше по подбору сделок, чем по продаже вторичной недвижимости.\n",
      "\n",
      "То есть люди покупают, обращаются, но уже приходят свои клиенты по рекомендации в основном.\n",
      "\n",
      "Естественно, агентство занимается и генерацией, с холодного рынка берем тоже клиентов.\n",
      "\n",
      "Но очень много своих уже наработанных, своя база.\n",
      "\n",
      "Да, поняла.\n",
      "\n",
      "Хорошо.\n",
      "\n",
      "Тогда такой вопрос.\n",
      "\n",
      "Если сравнивать, например, с сделкой именно по формату этих сделок, онлайн или это оффлайн сделки, вот как вы думаете, какое сейчас процентное распределение?\n",
      "\n",
      "Процентное распределение онлайн\n",
      "\n",
      "оффлайн сделок?\n",
      "\n",
      "Да.\n",
      "\n",
      "В основном офлайн сделки у нас проходят, онлайн не так много.\n",
      "\n",
      "По новостройкам бывает, что делаем сделки, но не такой большой процент.\n",
      "\n",
      "Поняла.\n",
      "\n",
      "Хорошо.\n",
      "\n",
      "Тогда вот такой еще вопрос.\n",
      "\n",
      "Расскажите, пожалуйста, что сейчас входит в ваши обязанности, как специалиста в этой сфере?\n",
      "\n",
      "Обучение сотрудников входит в обязанности.\n",
      "\n",
      "Помощь в ведении сделок.\n",
      "\n",
      "Ну и в то же время взаимодействие с партнерами, в том числе и банками, и брокерами, и ботичными, и страховыми и так далее.\n",
      "\n",
      "Так, хорошо, я поняла.\n",
      "\n",
      "Отлично.\n",
      "\n",
      "Светлана, расскажите, пожалуйста, проходили ли вы какое-то обучение в самом начале вашей карьеры?\n",
      "\n",
      "Конечно, обязательно.\n",
      "\n",
      "Обязательные условия.\n",
      "\n",
      "У нас есть свой учебный центр у агентства, и мы проходили там обучение.\n",
      "\n",
      "В том числе и продажно, по продажам, и по психотипу клиента, юридические вопросы.\n",
      "\n",
      "Ну, то есть такое достаточно объемное.\n",
      "\n",
      "Так, поняла.\n",
      "\n",
      "Хорошо.\n",
      "\n",
      "Можете, пожалуйста, рассказать ситуацию, которая возникла, скажем так, почему вообще потребовалось это обучение?\n",
      "\n",
      "Ну, это было обязательное условие компании пройти это обучение.\n",
      "\n",
      "То есть за обучение дальше я бы не могла получить комиссию, не пройдя это обучение.\n",
      "\n",
      "Сколько это там стоило, даже не помню.\n",
      "\n",
      "Ну, что-то стоило, но это не бесплатно было.\n",
      "\n",
      "Так, поняла.\n",
      "\n",
      "Хорошо.\n",
      "\n",
      "А как вы думаете, попытайтесь, пожалуйста, вспомнить, что в этом обучении, скажем так, было интересного?\n",
      "\n",
      "Что запомнилось больше всего?\n",
      "\n",
      "Ну, все интересно было, потому что я же этим не занималась, не продажами.\n",
      "\n",
      "В принципе, продажами все занимаются, и мы тоже.\n",
      "\n",
      "Я вот услугу свою как педагога тоже очень продавала, можно так сказать, но только что за очень маленькие деньги.\n",
      "\n",
      "Мне же нужно было своих учеников найти, в образовании это так работает.\n",
      "\n",
      "То есть там приходят на педагога, ну, или мероприятия также я продавала учреждением, школам, например.\n",
      "\n",
      "Ссылки и так далее.\n",
      "\n",
      "Ну, здесь специфика другая в недвижимости, понятно, что и деньги совершенно другие.\n",
      "\n",
      "То есть мне было все интересно по продажам, потому что не особо я продажник была на тот момент.\n",
      "\n",
      "Вот взаимодействие с клиентами, различные психологические портреты клиентов, понимать, как вести переговоры.\n",
      "\n",
      "Это интересно.\n",
      "\n",
      "И, конечно, юридические вопросы, потому что я совершенно в сфере недвижимости не понимала ничего.\n",
      "\n",
      "Поэтому это все было важно, потому что без этого как?\n",
      "\n",
      "Если ты совершенно не в теме, то можно очень много ошибок сделать, и клиент на серьезные деньги попадет, если ты сам разбираешься в вопросах.\n",
      "\n",
      "У нас, конечно, была юридическая служба, но она в основном работала на внешних, ну, то есть на клиентов.\n",
      "\n",
      "Внутри нас они не вели, ну, юридическая служба сделки не вела.\n",
      "\n",
      "Мы полностью сами, риэлтор вел, без юриста.\n",
      "\n",
      "Мы договоры сами готовили, то есть, вот здесь нужно было понимать и договорную эту базу, все вот эти шаблоны изучали, как готовится договор.\n",
      "\n",
      "Ну, понятное дело, что наставник тоже помогал, и офис-менеджер.\n",
      "\n",
      "Ну, в общем, это нужно, большое очень было объем информации, конечно.\n",
      "\n",
      "Юристы нас просто, ну, вот об изменениях приходили и рассказывали, что что-то менялось там в законодательстве, да, то есть они давали информацию.\n",
      "\n",
      "Все.\n",
      "\n",
      "Сделку не вели.\n",
      "\n",
      "3. Заключительные замечания:\n",
      "Я поняла.\n",
      "\n",
      "Так, хорошо, поняла.\n",
      "\n",
      "А расскажите, пожалуйста, может быть, ну, скажем так, чего-то не хватило по итогам этого курса?\n",
      "\n",
      "Допустим, какие-то вопросы остались все еще открытыми и потом сами решили?\n",
      "\n",
      "Да, естественно, да, это все опыт там.\n",
      "\n",
      "То есть, какие-то вопросы, все полностью, полный объем информации, конечно, нет.\n",
      "\n",
      "Это все приходило со сделками, потому что сделки разные.\n",
      "\n",
      "Ты же не ведешь вот так, не занимаешься только определенной сделкой.\n",
      "\n",
      "Здесь и вот с мат-капитал, когда ты начинаешь работать, когда ты начинаешь с опиркой работать, если, ну, на вторичном рынке.\n",
      "\n",
      "Это все с опытом, все вот эти этапы проходишь.\n",
      "\n",
      "То есть в обучении этого не было, ну, многих моментов не было, которые потом узнавались в процессе ведения сделки.\n",
      "\n",
      "Так, поняла, хорошо.\n",
      "\n",
      "Спасибо большое, что уделили мне так много времени, было очень приятно с вами пообщаться.\n",
      "\n",
      "Спасибо.\n",
      "\n",
      "Да, вы тоже провели не зря целый час.\n",
      "\n",
      "Я думаю, что в целом мы можем заканчивать, поэтому хочется вам еще раз пожелать хорошего дня и успехов в вашей сфере.\n",
      "\n",
      "Благодарю.\n",
      "\n",
      "Буду читать журнал.\n",
      "\n",
      "Да, хорошо.\n",
      "\n",
      "Всё, тогда до свидания.\n",
      "\n",
      "До свидания.\n",
      "</section_transcripts>\n",
      "\n",
      "<section_table>\n",
      "1. Введение и общие вопросы\n",
      "- Возраст, место жительства, опыт работы в сфере недвижимости\n",
      "- Основное образование и переход в сферу недвижимости\n",
      "\n",
      "2. Основные темы\n",
      "- Виды сделок, на которых специализируется\n",
      "- Соотношение онлайн и офлайн сделок\n",
      "- Должностные обязанности\n",
      "- Обучение в начале карьеры: формат, содержание, полезность\n",
      "- Дополнительное обучение и источники информации\n",
      "\n",
      "3. Заключительные замечания\n",
      "- Пожелания и благодарность\n",
      "</section_table>\n"
     ]
    }
   ],
   "source": [
    "print(results_interview_1[\"answer_1\"])"
   ],
   "metadata": {
    "collapsed": false,
    "ExecuteTime": {
     "end_time": "2024-05-18T12:26:49.884567Z",
     "start_time": "2024-05-18T12:26:49.882242Z"
    }
   },
   "id": "afc9f3478191d82c",
   "execution_count": 426
  },
  {
   "cell_type": "code",
   "outputs": [],
   "source": [],
   "metadata": {
    "collapsed": false
   },
   "id": "c0280d39a5511f59"
  }
 ],
 "metadata": {
  "kernelspec": {
   "display_name": "Python 3",
   "language": "python",
   "name": "python3"
  },
  "language_info": {
   "codemirror_mode": {
    "name": "ipython",
    "version": 2
   },
   "file_extension": ".py",
   "mimetype": "text/x-python",
   "name": "python",
   "nbconvert_exporter": "python",
   "pygments_lexer": "ipython2",
   "version": "2.7.6"
  }
 },
 "nbformat": 4,
 "nbformat_minor": 5
}
