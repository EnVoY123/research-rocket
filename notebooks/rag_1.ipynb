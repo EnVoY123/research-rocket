{
 "cells": [
  {
   "cell_type": "code",
   "execution_count": 72,
   "id": "initial_id",
   "metadata": {
    "collapsed": true,
    "ExecuteTime": {
     "end_time": "2024-05-08T14:56:52.511491Z",
     "start_time": "2024-05-08T14:56:52.502852Z"
    }
   },
   "outputs": [],
   "source": [
    "import os\n",
    "import re\n",
    "from dotenv import load_dotenv\n",
    "\n",
    "from langchain_community.document_loaders import DirectoryLoader\n",
    "from langchain_text_splitters import RecursiveCharacterTextSplitter\n",
    "from langchain_community.embeddings import YandexGPTEmbeddings\n",
    "from langchain.vectorstores import FAISS\n",
    "from langchain_core.vectorstores import VectorStoreRetriever\n",
    "\n",
    "from langchain.chains import LLMChain\n",
    "from langchain_community.llms import YandexGPT\n",
    "from langchain_core.prompts import PromptTemplate\n"
   ]
  },
  {
   "cell_type": "code",
   "outputs": [],
   "source": [
    "# 26.79 руб\n",
    "load_dotenv()\n",
    "YANDEX_FOLDER_ID = os.getenv(\"YANDEX_FOLDER_ID\")\n",
    "YANDEX_API_KEY = os.getenv(\"YANDEX_API_KEY\")\n",
    "\n",
    "yandex_embeddings_api_model = YandexGPTEmbeddings(api_key=YANDEX_API_KEY, folder_id=YANDEX_FOLDER_ID,\n",
    "                                                  model_name=\"text-search-doc\")"
   ],
   "metadata": {
    "collapsed": false,
    "ExecuteTime": {
     "end_time": "2024-05-08T15:44:48.699805Z",
     "start_time": "2024-05-08T15:44:48.696480Z"
    }
   },
   "id": "4b88f907a2e0484c",
   "execution_count": 125
  },
  {
   "cell_type": "code",
   "outputs": [
    {
     "name": "stdout",
     "output_type": "stream",
     "text": [
      "Index: 0, File name: interview_3.txt, File length: 37995\n",
      "Index: 1, File name: interview_2.txt, File length: 33951\n",
      "Index: 2, File name: interview_1.txt, File length: 36025\n",
      "Index: 3, File name: interview_5.txt, File length: 50584\n",
      "Index: 4, File name: interview_4.txt, File length: 39364\n"
     ]
    }
   ],
   "source": [
    "# 1. Load documents \n",
    "loader = DirectoryLoader(\"../data/raw/\", glob=\"*.txt\")\n",
    "documents = loader.load()\n",
    "\n",
    "for num, doc in enumerate(documents):\n",
    "    print(f\"Index: {num}, File name: {doc.metadata['source'][-15:]}, File length: {len(doc.page_content)}\")"
   ],
   "metadata": {
    "collapsed": false,
    "ExecuteTime": {
     "end_time": "2024-05-08T15:25:51.981179Z",
     "start_time": "2024-05-08T15:25:50.265533Z"
    }
   },
   "id": "6c4838e854a166dd",
   "execution_count": 101
  },
  {
   "cell_type": "code",
   "outputs": [],
   "source": [
    "splitter = RecursiveCharacterTextSplitter(\n",
    "    chunk_size=500,\n",
    "    chunk_overlap=10,\n",
    "    length_function=len,\n",
    ")\n",
    "# split_documents = splitter.create_documents([documents[2].page_content])\n",
    "# len(split_documents)"
   ],
   "metadata": {
    "collapsed": false,
    "ExecuteTime": {
     "end_time": "2024-05-08T15:45:03.812489Z",
     "start_time": "2024-05-08T15:45:03.810703Z"
    }
   },
   "id": "591441ddc31cea91",
   "execution_count": 126
  },
  {
   "cell_type": "code",
   "outputs": [
    {
     "name": "stdout",
     "output_type": "stream",
     "text": [
      "0\n"
     ]
    }
   ],
   "source": [
    "for doc in documents[:1]:\n",
    "    doc_split = splitter.create_documents([doc.page_content])\n",
    "\n",
    "   "
   ],
   "metadata": {
    "collapsed": false,
    "ExecuteTime": {
     "end_time": "2024-05-08T16:17:04.695254Z",
     "start_time": "2024-05-08T16:17:04.689934Z"
    }
   },
   "id": "f70ab49141d9b72d",
   "execution_count": 187
  },
  {
   "cell_type": "code",
   "outputs": [],
   "source": [
    "# step = 10\n",
    "# slices = [data[i:i + step] for i in range(0, 100, step)]\n"
   ],
   "metadata": {
    "collapsed": false,
    "ExecuteTime": {
     "end_time": "2024-05-08T16:11:40.500545Z",
     "start_time": "2024-05-08T16:11:40.498643Z"
    }
   },
   "id": "2b91cf6c83470885",
   "execution_count": 176
  },
  {
   "cell_type": "code",
   "outputs": [],
   "source": [],
   "metadata": {
    "collapsed": false,
    "ExecuteTime": {
     "end_time": "2024-05-08T19:08:10.354685Z",
     "start_time": "2024-05-08T19:08:10.352181Z"
    }
   },
   "id": "495c54678650260d",
   "execution_count": 187
  },
  {
   "cell_type": "code",
   "outputs": [],
   "source": [],
   "metadata": {
    "collapsed": false,
    "ExecuteTime": {
     "end_time": "2024-05-08T15:51:06.434394Z",
     "start_time": "2024-05-08T15:51:06.432875Z"
    }
   },
   "id": "adea5920c72698c9",
   "execution_count": 146
  },
  {
   "cell_type": "code",
   "outputs": [],
   "source": [],
   "metadata": {
    "collapsed": false,
    "ExecuteTime": {
     "end_time": "2024-05-08T15:51:08.362699Z",
     "start_time": "2024-05-08T15:51:08.360320Z"
    }
   },
   "id": "1476b8e8ae350b4b",
   "execution_count": 146
  },
  {
   "cell_type": "code",
   "outputs": [],
   "source": [],
   "metadata": {
    "collapsed": false,
    "ExecuteTime": {
     "end_time": "2024-05-08T15:51:09.733645Z",
     "start_time": "2024-05-08T15:51:09.731434Z"
    }
   },
   "id": "e3f50a866ab094fc",
   "execution_count": 146
  },
  {
   "cell_type": "code",
   "outputs": [],
   "source": [
    " "
   ],
   "metadata": {
    "collapsed": false,
    "ExecuteTime": {
     "end_time": "2024-05-08T15:30:44.788623Z",
     "start_time": "2024-05-08T15:30:44.786505Z"
    }
   },
   "id": "45917ad230c21c28",
   "execution_count": 112
  },
  {
   "cell_type": "code",
   "outputs": [],
   "source": [],
   "metadata": {
    "collapsed": false
   },
   "id": "77ff9070369787ae"
  }
 ],
 "metadata": {
  "kernelspec": {
   "display_name": "Python 3",
   "language": "python",
   "name": "python3"
  },
  "language_info": {
   "codemirror_mode": {
    "name": "ipython",
    "version": 2
   },
   "file_extension": ".py",
   "mimetype": "text/x-python",
   "name": "python",
   "nbconvert_exporter": "python",
   "pygments_lexer": "ipython2",
   "version": "2.7.6"
  }
 },
 "nbformat": 4,
 "nbformat_minor": 5
}
